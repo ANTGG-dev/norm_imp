{
 "cells": [
  {
   "cell_type": "code",
   "execution_count": 1,
   "metadata": {},
   "outputs": [],
   "source": [
    "import pandas as pd\n",
    "import seaborn as sns\n",
    "import matplotlib.pyplot as plt\n",
    "import random\n",
    "import numpy as np"
   ]
  },
  {
   "cell_type": "code",
   "execution_count": 2,
   "metadata": {},
   "outputs": [
    {
     "data": {
      "text/html": [
       "<div>\n",
       "<style scoped>\n",
       "    .dataframe tbody tr th:only-of-type {\n",
       "        vertical-align: middle;\n",
       "    }\n",
       "\n",
       "    .dataframe tbody tr th {\n",
       "        vertical-align: top;\n",
       "    }\n",
       "\n",
       "    .dataframe thead th {\n",
       "        text-align: right;\n",
       "    }\n",
       "</style>\n",
       "<table border=\"1\" class=\"dataframe\">\n",
       "  <thead>\n",
       "    <tr style=\"text-align: right;\">\n",
       "      <th></th>\n",
       "      <th>UDI</th>\n",
       "      <th>Product ID</th>\n",
       "      <th>Type</th>\n",
       "      <th>Air temperature [K]</th>\n",
       "      <th>Process temperature [K]</th>\n",
       "      <th>Rotational speed [rpm]</th>\n",
       "      <th>Torque [Nm]</th>\n",
       "      <th>Tool wear [min]</th>\n",
       "      <th>Target</th>\n",
       "      <th>Failure Type</th>\n",
       "    </tr>\n",
       "  </thead>\n",
       "  <tbody>\n",
       "    <tr>\n",
       "      <th>0</th>\n",
       "      <td>1</td>\n",
       "      <td>M14860</td>\n",
       "      <td>M</td>\n",
       "      <td>298.1</td>\n",
       "      <td>308.6</td>\n",
       "      <td>1551</td>\n",
       "      <td>42.8</td>\n",
       "      <td>0</td>\n",
       "      <td>0</td>\n",
       "      <td>No Failure</td>\n",
       "    </tr>\n",
       "    <tr>\n",
       "      <th>1</th>\n",
       "      <td>2</td>\n",
       "      <td>L47181</td>\n",
       "      <td>L</td>\n",
       "      <td>298.2</td>\n",
       "      <td>308.7</td>\n",
       "      <td>1408</td>\n",
       "      <td>46.3</td>\n",
       "      <td>3</td>\n",
       "      <td>0</td>\n",
       "      <td>No Failure</td>\n",
       "    </tr>\n",
       "    <tr>\n",
       "      <th>2</th>\n",
       "      <td>3</td>\n",
       "      <td>L47182</td>\n",
       "      <td>L</td>\n",
       "      <td>298.1</td>\n",
       "      <td>308.5</td>\n",
       "      <td>1498</td>\n",
       "      <td>49.4</td>\n",
       "      <td>5</td>\n",
       "      <td>0</td>\n",
       "      <td>No Failure</td>\n",
       "    </tr>\n",
       "    <tr>\n",
       "      <th>3</th>\n",
       "      <td>4</td>\n",
       "      <td>L47183</td>\n",
       "      <td>L</td>\n",
       "      <td>298.2</td>\n",
       "      <td>308.6</td>\n",
       "      <td>1433</td>\n",
       "      <td>39.5</td>\n",
       "      <td>7</td>\n",
       "      <td>0</td>\n",
       "      <td>No Failure</td>\n",
       "    </tr>\n",
       "    <tr>\n",
       "      <th>4</th>\n",
       "      <td>5</td>\n",
       "      <td>L47184</td>\n",
       "      <td>L</td>\n",
       "      <td>298.2</td>\n",
       "      <td>308.7</td>\n",
       "      <td>1408</td>\n",
       "      <td>40.0</td>\n",
       "      <td>9</td>\n",
       "      <td>0</td>\n",
       "      <td>No Failure</td>\n",
       "    </tr>\n",
       "    <tr>\n",
       "      <th>5</th>\n",
       "      <td>6</td>\n",
       "      <td>M14865</td>\n",
       "      <td>M</td>\n",
       "      <td>298.1</td>\n",
       "      <td>308.6</td>\n",
       "      <td>1425</td>\n",
       "      <td>41.9</td>\n",
       "      <td>11</td>\n",
       "      <td>0</td>\n",
       "      <td>No Failure</td>\n",
       "    </tr>\n",
       "    <tr>\n",
       "      <th>6</th>\n",
       "      <td>7</td>\n",
       "      <td>L47186</td>\n",
       "      <td>L</td>\n",
       "      <td>298.1</td>\n",
       "      <td>308.6</td>\n",
       "      <td>1558</td>\n",
       "      <td>42.4</td>\n",
       "      <td>14</td>\n",
       "      <td>0</td>\n",
       "      <td>No Failure</td>\n",
       "    </tr>\n",
       "    <tr>\n",
       "      <th>7</th>\n",
       "      <td>8</td>\n",
       "      <td>L47187</td>\n",
       "      <td>L</td>\n",
       "      <td>298.1</td>\n",
       "      <td>308.6</td>\n",
       "      <td>1527</td>\n",
       "      <td>40.2</td>\n",
       "      <td>16</td>\n",
       "      <td>0</td>\n",
       "      <td>No Failure</td>\n",
       "    </tr>\n",
       "    <tr>\n",
       "      <th>8</th>\n",
       "      <td>9</td>\n",
       "      <td>M14868</td>\n",
       "      <td>M</td>\n",
       "      <td>298.3</td>\n",
       "      <td>308.7</td>\n",
       "      <td>1667</td>\n",
       "      <td>28.6</td>\n",
       "      <td>18</td>\n",
       "      <td>0</td>\n",
       "      <td>No Failure</td>\n",
       "    </tr>\n",
       "    <tr>\n",
       "      <th>9</th>\n",
       "      <td>10</td>\n",
       "      <td>M14869</td>\n",
       "      <td>M</td>\n",
       "      <td>298.5</td>\n",
       "      <td>309.0</td>\n",
       "      <td>1741</td>\n",
       "      <td>28.0</td>\n",
       "      <td>21</td>\n",
       "      <td>0</td>\n",
       "      <td>No Failure</td>\n",
       "    </tr>\n",
       "  </tbody>\n",
       "</table>\n",
       "</div>"
      ],
      "text/plain": [
       "   UDI Product ID Type  Air temperature [K]  Process temperature [K]  \\\n",
       "0    1     M14860    M                298.1                    308.6   \n",
       "1    2     L47181    L                298.2                    308.7   \n",
       "2    3     L47182    L                298.1                    308.5   \n",
       "3    4     L47183    L                298.2                    308.6   \n",
       "4    5     L47184    L                298.2                    308.7   \n",
       "5    6     M14865    M                298.1                    308.6   \n",
       "6    7     L47186    L                298.1                    308.6   \n",
       "7    8     L47187    L                298.1                    308.6   \n",
       "8    9     M14868    M                298.3                    308.7   \n",
       "9   10     M14869    M                298.5                    309.0   \n",
       "\n",
       "   Rotational speed [rpm]  Torque [Nm]  Tool wear [min]  Target Failure Type  \n",
       "0                    1551         42.8                0       0   No Failure  \n",
       "1                    1408         46.3                3       0   No Failure  \n",
       "2                    1498         49.4                5       0   No Failure  \n",
       "3                    1433         39.5                7       0   No Failure  \n",
       "4                    1408         40.0                9       0   No Failure  \n",
       "5                    1425         41.9               11       0   No Failure  \n",
       "6                    1558         42.4               14       0   No Failure  \n",
       "7                    1527         40.2               16       0   No Failure  \n",
       "8                    1667         28.6               18       0   No Failure  \n",
       "9                    1741         28.0               21       0   No Failure  "
      ]
     },
     "execution_count": 2,
     "metadata": {},
     "output_type": "execute_result"
    }
   ],
   "source": [
    "url = 'https://drive.google.com/file/d/1_dElPy5hHvvgqvQ9qYgx3JfaGJmXP8cz/view?usp=sharing'\n",
    "path = 'https://drive.google.com/uc?export=download&id='+url.split('/')[-2]\n",
    "\n",
    "df = pd.read_csv(path)\n",
    "dataframeN = pd.read_csv(path)\n",
    "dataframeN2 = pd.read_csv(path)\n",
    "\"\"\"\n",
    "df = pd.read_csv('heart/HeartDisease.csv')\n",
    "dataframeN = pd.read_csv('heart/HeartDisease.csv')\n",
    "dataframeN2 = pd.read_csv('heart/HeartDisease.csv')\n",
    "\n",
    "\"\"\"\n",
    "df.head(10)"
   ]
  },
  {
   "cell_type": "code",
   "execution_count": 3,
   "metadata": {},
   "outputs": [
    {
     "data": {
      "text/html": [
       "<div>\n",
       "<style scoped>\n",
       "    .dataframe tbody tr th:only-of-type {\n",
       "        vertical-align: middle;\n",
       "    }\n",
       "\n",
       "    .dataframe tbody tr th {\n",
       "        vertical-align: top;\n",
       "    }\n",
       "\n",
       "    .dataframe thead th {\n",
       "        text-align: right;\n",
       "    }\n",
       "</style>\n",
       "<table border=\"1\" class=\"dataframe\">\n",
       "  <thead>\n",
       "    <tr style=\"text-align: right;\">\n",
       "      <th></th>\n",
       "      <th>UDI</th>\n",
       "      <th>Air temperature [K]</th>\n",
       "      <th>Process temperature [K]</th>\n",
       "      <th>Rotational speed [rpm]</th>\n",
       "      <th>Torque [Nm]</th>\n",
       "      <th>Tool wear [min]</th>\n",
       "      <th>Target</th>\n",
       "    </tr>\n",
       "  </thead>\n",
       "  <tbody>\n",
       "    <tr>\n",
       "      <th>count</th>\n",
       "      <td>10000.00000</td>\n",
       "      <td>10000.000000</td>\n",
       "      <td>10000.000000</td>\n",
       "      <td>10000.000000</td>\n",
       "      <td>10000.000000</td>\n",
       "      <td>10000.000000</td>\n",
       "      <td>10000.000000</td>\n",
       "    </tr>\n",
       "    <tr>\n",
       "      <th>mean</th>\n",
       "      <td>5000.50000</td>\n",
       "      <td>300.004930</td>\n",
       "      <td>310.005560</td>\n",
       "      <td>1538.776100</td>\n",
       "      <td>39.986910</td>\n",
       "      <td>107.951000</td>\n",
       "      <td>0.033900</td>\n",
       "    </tr>\n",
       "    <tr>\n",
       "      <th>std</th>\n",
       "      <td>2886.89568</td>\n",
       "      <td>2.000259</td>\n",
       "      <td>1.483734</td>\n",
       "      <td>179.284096</td>\n",
       "      <td>9.968934</td>\n",
       "      <td>63.654147</td>\n",
       "      <td>0.180981</td>\n",
       "    </tr>\n",
       "    <tr>\n",
       "      <th>min</th>\n",
       "      <td>1.00000</td>\n",
       "      <td>295.300000</td>\n",
       "      <td>305.700000</td>\n",
       "      <td>1168.000000</td>\n",
       "      <td>3.800000</td>\n",
       "      <td>0.000000</td>\n",
       "      <td>0.000000</td>\n",
       "    </tr>\n",
       "    <tr>\n",
       "      <th>25%</th>\n",
       "      <td>2500.75000</td>\n",
       "      <td>298.300000</td>\n",
       "      <td>308.800000</td>\n",
       "      <td>1423.000000</td>\n",
       "      <td>33.200000</td>\n",
       "      <td>53.000000</td>\n",
       "      <td>0.000000</td>\n",
       "    </tr>\n",
       "    <tr>\n",
       "      <th>50%</th>\n",
       "      <td>5000.50000</td>\n",
       "      <td>300.100000</td>\n",
       "      <td>310.100000</td>\n",
       "      <td>1503.000000</td>\n",
       "      <td>40.100000</td>\n",
       "      <td>108.000000</td>\n",
       "      <td>0.000000</td>\n",
       "    </tr>\n",
       "    <tr>\n",
       "      <th>75%</th>\n",
       "      <td>7500.25000</td>\n",
       "      <td>301.500000</td>\n",
       "      <td>311.100000</td>\n",
       "      <td>1612.000000</td>\n",
       "      <td>46.800000</td>\n",
       "      <td>162.000000</td>\n",
       "      <td>0.000000</td>\n",
       "    </tr>\n",
       "    <tr>\n",
       "      <th>max</th>\n",
       "      <td>10000.00000</td>\n",
       "      <td>304.500000</td>\n",
       "      <td>313.800000</td>\n",
       "      <td>2886.000000</td>\n",
       "      <td>76.600000</td>\n",
       "      <td>253.000000</td>\n",
       "      <td>1.000000</td>\n",
       "    </tr>\n",
       "  </tbody>\n",
       "</table>\n",
       "</div>"
      ],
      "text/plain": [
       "               UDI  Air temperature [K]  Process temperature [K]  \\\n",
       "count  10000.00000         10000.000000             10000.000000   \n",
       "mean    5000.50000           300.004930               310.005560   \n",
       "std     2886.89568             2.000259                 1.483734   \n",
       "min        1.00000           295.300000               305.700000   \n",
       "25%     2500.75000           298.300000               308.800000   \n",
       "50%     5000.50000           300.100000               310.100000   \n",
       "75%     7500.25000           301.500000               311.100000   \n",
       "max    10000.00000           304.500000               313.800000   \n",
       "\n",
       "       Rotational speed [rpm]   Torque [Nm]  Tool wear [min]        Target  \n",
       "count            10000.000000  10000.000000     10000.000000  10000.000000  \n",
       "mean              1538.776100     39.986910       107.951000      0.033900  \n",
       "std                179.284096      9.968934        63.654147      0.180981  \n",
       "min               1168.000000      3.800000         0.000000      0.000000  \n",
       "25%               1423.000000     33.200000        53.000000      0.000000  \n",
       "50%               1503.000000     40.100000       108.000000      0.000000  \n",
       "75%               1612.000000     46.800000       162.000000      0.000000  \n",
       "max               2886.000000     76.600000       253.000000      1.000000  "
      ]
     },
     "execution_count": 3,
     "metadata": {},
     "output_type": "execute_result"
    }
   ],
   "source": [
    "df.describe()\n",
    "\n"
   ]
  },
  {
   "cell_type": "markdown",
   "metadata": {},
   "source": [
    "# NORMALIZACIÓN DE VALORES CUANTITATIVOS"
   ]
  },
  {
   "cell_type": "markdown",
   "metadata": {},
   "source": [
    "**Normalización**\n",
    "\n",
    "     MIN - MAX\n",
    "\n",
    "$$x' = a + \\frac{x - min(x)}{max(x)-min(x)} * (b-a)$$\n",
    "\n",
    "Donde:\n",
    "- **x** es el dato origial\n",
    "- **x'** dato normalizado\n",
    "- **a** valor mínimo deseado\n",
    "- **b** valor máximo deseado"
   ]
  },
  {
   "cell_type": "code",
   "execution_count": 4,
   "metadata": {},
   "outputs": [
    {
     "name": "stderr",
     "output_type": "stream",
     "text": [
      "C:\\Users\\garci\\AppData\\Local\\Temp\\ipykernel_17200\\1946600057.py:13: SettingWithCopyWarning: \n",
      "A value is trying to be set on a copy of a slice from a DataFrame\n",
      "\n",
      "See the caveats in the documentation: https://pandas.pydata.org/pandas-docs/stable/user_guide/indexing.html#returning-a-view-versus-a-copy\n",
      "  dataframe[columnaNormalizar][p] = (((i-minimoDeLosDatos)/rangoDeDatos)*rangoNormalizado)+minimoNormalizado\n"
     ]
    },
    {
     "name": "stdout",
     "output_type": "stream",
     "text": [
      "   UDI Product ID Type  Air temperature [K]  Process temperature [K]  \\\n",
      "0    1     M14860    M            -0.391304                    308.6   \n",
      "1    2     L47181    L            -0.369565                    308.7   \n",
      "2    3     L47182    L            -0.391304                    308.5   \n",
      "3    4     L47183    L            -0.369565                    308.6   \n",
      "4    5     L47184    L            -0.369565                    308.7   \n",
      "5    6     M14865    M            -0.391304                    308.6   \n",
      "6    7     L47186    L            -0.391304                    308.6   \n",
      "7    8     L47187    L            -0.391304                    308.6   \n",
      "8    9     M14868    M            -0.347826                    308.7   \n",
      "9   10     M14869    M            -0.304348                    309.0   \n",
      "\n",
      "   Rotational speed [rpm]  Torque [Nm]  Tool wear [min]  Target Failure Type  \n",
      "0                    1551         42.8                0       0   No Failure  \n",
      "1                    1408         46.3                3       0   No Failure  \n",
      "2                    1498         49.4                5       0   No Failure  \n",
      "3                    1433         39.5                7       0   No Failure  \n",
      "4                    1408         40.0                9       0   No Failure  \n",
      "5                    1425         41.9               11       0   No Failure  \n",
      "6                    1558         42.4               14       0   No Failure  \n",
      "7                    1527         40.2               16       0   No Failure  \n",
      "8                    1667         28.6               18       0   No Failure  \n",
      "9                    1741         28.0               21       0   No Failure  \n",
      "               UDI  Air temperature [K]  Process temperature [K]  \\\n",
      "count  10000.00000         10000.000000             10000.000000   \n",
      "mean    5000.50000             0.022811               310.005560   \n",
      "std     2886.89568             0.434839                 1.483734   \n",
      "min        1.00000            -1.000000               305.700000   \n",
      "25%     2500.75000            -0.347826               308.800000   \n",
      "50%     5000.50000             0.043478               310.100000   \n",
      "75%     7500.25000             0.347826               311.100000   \n",
      "max    10000.00000             1.000000               313.800000   \n",
      "\n",
      "       Rotational speed [rpm]   Torque [Nm]  Tool wear [min]        Target  \n",
      "count            10000.000000  10000.000000     10000.000000  10000.000000  \n",
      "mean              1538.776100     39.986910       107.951000      0.033900  \n",
      "std                179.284096      9.968934        63.654147      0.180981  \n",
      "min               1168.000000      3.800000         0.000000      0.000000  \n",
      "25%               1423.000000     33.200000        53.000000      0.000000  \n",
      "50%               1503.000000     40.100000       108.000000      0.000000  \n",
      "75%               1612.000000     46.800000       162.000000      0.000000  \n",
      "max               2886.000000     76.600000       253.000000      1.000000  \n"
     ]
    }
   ],
   "source": [
    "\n",
    "columna = 'Air temperature [K]'\n",
    "def minMaxNorma(dataframe,columnaNormalizar):\n",
    "    maximoDeLosDatos = dataframe[columnaNormalizar].max()\n",
    "    minimoDeLosDatos = dataframe[columnaNormalizar].min()\n",
    "    maximoNormalizado = 1\n",
    "    minimoNormalizado = -1\n",
    "\n",
    "    rangoDeDatos = maximoDeLosDatos - minimoDeLosDatos\n",
    "    rangoNormalizado = maximoNormalizado - minimoNormalizado\n",
    "\n",
    "    p = 0\n",
    "    for i in dataframe[columnaNormalizar]:\n",
    "        dataframe[columnaNormalizar][p] = (((i-minimoDeLosDatos)/rangoDeDatos)*rangoNormalizado)+minimoNormalizado\n",
    "        p += 1\n",
    "    return dataframe\n",
    "\n",
    "\n",
    "minMaxNorma(dataframeN,columna)\n",
    "print(dataframeN.head(10))\n",
    "print(dataframeN.describe())"
   ]
  },
  {
   "cell_type": "markdown",
   "metadata": {},
   "source": [
    "**Normalización**\n",
    "\n",
    "     Normlaización por media\n",
    "\n",
    "$$x' = \\frac{x - \\mu}{max(x)-min(x)} $$\n",
    "\n",
    "Donde:\n",
    "- **x** es el dato origial\n",
    "- **x'** dato normalizado\n",
    "- **$\\mu$** es la media del vector de entrada\n",
    "- **a** valor mínimo deseado\n",
    "- **b** valor máximo deseado"
   ]
  },
  {
   "cell_type": "code",
   "execution_count": 5,
   "metadata": {},
   "outputs": [
    {
     "data": {
      "text/html": [
       "<div>\n",
       "<style scoped>\n",
       "    .dataframe tbody tr th:only-of-type {\n",
       "        vertical-align: middle;\n",
       "    }\n",
       "\n",
       "    .dataframe tbody tr th {\n",
       "        vertical-align: top;\n",
       "    }\n",
       "\n",
       "    .dataframe thead th {\n",
       "        text-align: right;\n",
       "    }\n",
       "</style>\n",
       "<table border=\"1\" class=\"dataframe\">\n",
       "  <thead>\n",
       "    <tr style=\"text-align: right;\">\n",
       "      <th></th>\n",
       "      <th>UDI</th>\n",
       "      <th>Air temperature [K]</th>\n",
       "      <th>Process temperature [K]</th>\n",
       "      <th>Rotational speed [rpm]</th>\n",
       "      <th>Torque [Nm]</th>\n",
       "      <th>Tool wear [min]</th>\n",
       "      <th>Target</th>\n",
       "    </tr>\n",
       "  </thead>\n",
       "  <tbody>\n",
       "    <tr>\n",
       "      <th>count</th>\n",
       "      <td>10000.00000</td>\n",
       "      <td>10000.000000</td>\n",
       "      <td>10000.000000</td>\n",
       "      <td>10000.000000</td>\n",
       "      <td>10000.000000</td>\n",
       "      <td>10000.000000</td>\n",
       "      <td>10000.000000</td>\n",
       "    </tr>\n",
       "    <tr>\n",
       "      <th>mean</th>\n",
       "      <td>5000.50000</td>\n",
       "      <td>0.022811</td>\n",
       "      <td>310.005560</td>\n",
       "      <td>1538.776100</td>\n",
       "      <td>39.986910</td>\n",
       "      <td>107.951000</td>\n",
       "      <td>0.033900</td>\n",
       "    </tr>\n",
       "    <tr>\n",
       "      <th>std</th>\n",
       "      <td>2886.89568</td>\n",
       "      <td>0.434839</td>\n",
       "      <td>1.483734</td>\n",
       "      <td>179.284096</td>\n",
       "      <td>9.968934</td>\n",
       "      <td>63.654147</td>\n",
       "      <td>0.180981</td>\n",
       "    </tr>\n",
       "    <tr>\n",
       "      <th>min</th>\n",
       "      <td>1.00000</td>\n",
       "      <td>-1.000000</td>\n",
       "      <td>305.700000</td>\n",
       "      <td>1168.000000</td>\n",
       "      <td>3.800000</td>\n",
       "      <td>0.000000</td>\n",
       "      <td>0.000000</td>\n",
       "    </tr>\n",
       "    <tr>\n",
       "      <th>25%</th>\n",
       "      <td>2500.75000</td>\n",
       "      <td>-0.347826</td>\n",
       "      <td>308.800000</td>\n",
       "      <td>1423.000000</td>\n",
       "      <td>33.200000</td>\n",
       "      <td>53.000000</td>\n",
       "      <td>0.000000</td>\n",
       "    </tr>\n",
       "    <tr>\n",
       "      <th>50%</th>\n",
       "      <td>5000.50000</td>\n",
       "      <td>0.043478</td>\n",
       "      <td>310.100000</td>\n",
       "      <td>1503.000000</td>\n",
       "      <td>40.100000</td>\n",
       "      <td>108.000000</td>\n",
       "      <td>0.000000</td>\n",
       "    </tr>\n",
       "    <tr>\n",
       "      <th>75%</th>\n",
       "      <td>7500.25000</td>\n",
       "      <td>0.347826</td>\n",
       "      <td>311.100000</td>\n",
       "      <td>1612.000000</td>\n",
       "      <td>46.800000</td>\n",
       "      <td>162.000000</td>\n",
       "      <td>0.000000</td>\n",
       "    </tr>\n",
       "    <tr>\n",
       "      <th>max</th>\n",
       "      <td>10000.00000</td>\n",
       "      <td>1.000000</td>\n",
       "      <td>313.800000</td>\n",
       "      <td>2886.000000</td>\n",
       "      <td>76.600000</td>\n",
       "      <td>253.000000</td>\n",
       "      <td>1.000000</td>\n",
       "    </tr>\n",
       "  </tbody>\n",
       "</table>\n",
       "</div>"
      ],
      "text/plain": [
       "               UDI  Air temperature [K]  Process temperature [K]  \\\n",
       "count  10000.00000         10000.000000             10000.000000   \n",
       "mean    5000.50000             0.022811               310.005560   \n",
       "std     2886.89568             0.434839                 1.483734   \n",
       "min        1.00000            -1.000000               305.700000   \n",
       "25%     2500.75000            -0.347826               308.800000   \n",
       "50%     5000.50000             0.043478               310.100000   \n",
       "75%     7500.25000             0.347826               311.100000   \n",
       "max    10000.00000             1.000000               313.800000   \n",
       "\n",
       "       Rotational speed [rpm]   Torque [Nm]  Tool wear [min]        Target  \n",
       "count            10000.000000  10000.000000     10000.000000  10000.000000  \n",
       "mean              1538.776100     39.986910       107.951000      0.033900  \n",
       "std                179.284096      9.968934        63.654147      0.180981  \n",
       "min               1168.000000      3.800000         0.000000      0.000000  \n",
       "25%               1423.000000     33.200000        53.000000      0.000000  \n",
       "50%               1503.000000     40.100000       108.000000      0.000000  \n",
       "75%               1612.000000     46.800000       162.000000      0.000000  \n",
       "max               2886.000000     76.600000       253.000000      1.000000  "
      ]
     },
     "execution_count": 5,
     "metadata": {},
     "output_type": "execute_result"
    }
   ],
   "source": [
    "dataframeN.describe()"
   ]
  },
  {
   "cell_type": "code",
   "execution_count": 6,
   "metadata": {},
   "outputs": [
    {
     "name": "stderr",
     "output_type": "stream",
     "text": [
      "C:\\Users\\garci\\AppData\\Local\\Temp\\ipykernel_17200\\1685695932.py:8: SettingWithCopyWarning: \n",
      "A value is trying to be set on a copy of a slice from a DataFrame\n",
      "\n",
      "See the caveats in the documentation: https://pandas.pydata.org/pandas-docs/stable/user_guide/indexing.html#returning-a-view-versus-a-copy\n",
      "  dataframeN2[columnaNormalizar][p] = ((i-mean)/maximoDeLosDatos-minimoDeLosDatos)\n"
     ]
    },
    {
     "name": "stdout",
     "output_type": "stream",
     "text": [
      "   UDI Product ID Type  Air temperature [K]  Process temperature [K]  \\\n",
      "0    1     M14860    M          -295.306256                    308.6   \n",
      "1    2     L47181    L          -295.305928                    308.7   \n",
      "2    3     L47182    L          -295.306256                    308.5   \n",
      "3    4     L47183    L          -295.305928                    308.6   \n",
      "4    5     L47184    L          -295.305928                    308.7   \n",
      "5    6     M14865    M          -295.306256                    308.6   \n",
      "6    7     L47186    L          -295.306256                    308.6   \n",
      "7    8     L47187    L          -295.306256                    308.6   \n",
      "8    9     M14868    M          -295.305599                    308.7   \n",
      "9   10     M14869    M          -295.304942                    309.0   \n",
      "\n",
      "   Rotational speed [rpm]  Torque [Nm]  Tool wear [min]  Target Failure Type  \n",
      "0                    1551         42.8                0       0   No Failure  \n",
      "1                    1408         46.3                3       0   No Failure  \n",
      "2                    1498         49.4                5       0   No Failure  \n",
      "3                    1433         39.5                7       0   No Failure  \n",
      "4                    1408         40.0                9       0   No Failure  \n",
      "5                    1425         41.9               11       0   No Failure  \n",
      "6                    1558         42.4               14       0   No Failure  \n",
      "7                    1527         40.2               16       0   No Failure  \n",
      "8                    1667         28.6               18       0   No Failure  \n",
      "9                    1741         28.0               21       0   No Failure  \n",
      "               UDI  Air temperature [K]  Process temperature [K]  \\\n",
      "count  10000.00000         10000.000000             10000.000000   \n",
      "mean    5000.50000          -295.300000               310.005560   \n",
      "std     2886.89568             0.006569                 1.483734   \n",
      "min        1.00000          -295.315451               305.700000   \n",
      "25%     2500.75000          -295.305599               308.800000   \n",
      "50%     5000.50000          -295.299688               310.100000   \n",
      "75%     7500.25000          -295.295090               311.100000   \n",
      "max    10000.00000          -295.285238               313.800000   \n",
      "\n",
      "       Rotational speed [rpm]   Torque [Nm]  Tool wear [min]        Target  \n",
      "count            10000.000000  10000.000000     10000.000000  10000.000000  \n",
      "mean              1538.776100     39.986910       107.951000      0.033900  \n",
      "std                179.284096      9.968934        63.654147      0.180981  \n",
      "min               1168.000000      3.800000         0.000000      0.000000  \n",
      "25%               1423.000000     33.200000        53.000000      0.000000  \n",
      "50%               1503.000000     40.100000       108.000000      0.000000  \n",
      "75%               1612.000000     46.800000       162.000000      0.000000  \n",
      "max               2886.000000     76.600000       253.000000      1.000000  \n"
     ]
    }
   ],
   "source": [
    "\n",
    "def meanNorma(dataframeN2,columnaNormalizar):\n",
    "    maximoDeLosDatos = dataframeN2[columnaNormalizar].max()\n",
    "    minimoDeLosDatos = dataframeN2[columnaNormalizar].min()\n",
    "    mean = dataframeN2[columnaNormalizar].mean()\n",
    "\n",
    "    p = 0\n",
    "    for i in dataframeN2[columnaNormalizar]:\n",
    "        dataframeN2[columnaNormalizar][p] = ((i-mean)/maximoDeLosDatos-minimoDeLosDatos)\n",
    "        p += 1\n",
    "    return dataframeN2\n",
    "\n",
    "meanNorma(dataframeN2,columna)\n",
    "print(dataframeN2.head(10))\n",
    "print(dataframeN2.describe())"
   ]
  },
  {
   "cell_type": "code",
   "execution_count": 7,
   "metadata": {},
   "outputs": [
    {
     "name": "stdout",
     "output_type": "stream",
     "text": [
      "SinNormalizar\n",
      "MinMax\n",
      "Mean\n"
     ]
    },
    {
     "data": {
      "image/png": "[encoded data removed]",
      "text/plain": [
       "<Figure size 360x360 with 1 Axes>"
      ]
     },
     "metadata": {
      "needs_background": "light"
     },
     "output_type": "display_data"
    },
    {
     "data": {
      "image/png": "[encoded data removed]",
      "text/plain": [
       "<Figure size 360x360 with 1 Axes>"
      ]
     },
     "metadata": {
      "needs_background": "light"
     },
     "output_type": "display_data"
    },
    {
     "data": {
      "image/png": "[encoded data removed]",
      "text/plain": [
       "<Figure size 360x360 with 1 Axes>"
      ]
     },
     "metadata": {
      "needs_background": "light"
     },
     "output_type": "display_data"
    }
   ],
   "source": [
    "tipoNormalizacion = ['SinNormalizar','MinMax','Mean']\n",
    "datos = [df[\"Air temperature [K]\"],dataframeN[\"Air temperature [K]\"],dataframeN2[\"Air temperature [K]\"]]\n",
    "for index in range(len(tipoNormalizacion)):\n",
    "    print(tipoNormalizacion[index])\n",
    "    sns.displot(datos[index])\n"
   ]
  },
  {
   "cell_type": "markdown",
   "metadata": {},
   "source": [
    "# NORMALIZACIÓN DE VALORES ORDINALES"
   ]
  },
  {
   "cell_type": "markdown",
   "metadata": {},
   "source": [
    "**Renombrar las columnas**"
   ]
  },
  {
   "cell_type": "code",
   "execution_count": 8,
   "metadata": {},
   "outputs": [],
   "source": [
    "dataframe = df.copy()\n",
    "dataframe.rename(mapper={'Air temperature [K]': 'Air_temperature',\n",
    "                    'Process temperature [K]': 'Process _temperature',\n",
    "                    'Rotational speed [rpm]': 'Rotational_speed',\n",
    "                    'Torque [Nm]': 'Torque', 'Failure Type' : 'Failure_Type',\n",
    "                    'Tool wear [min]': 'Tool_wear'}, axis=1, inplace=True)"
   ]
  },
  {
   "cell_type": "markdown",
   "metadata": {},
   "source": [
    "**CAMBIAR EL TIPO DE DATO**"
   ]
  },
  {
   "cell_type": "code",
   "execution_count": 9,
   "metadata": {},
   "outputs": [
    {
     "name": "stdout",
     "output_type": "stream",
     "text": [
      "        UDI Type  Air_temperature  Process _temperature  Rotational_speed  \\\n",
      "0         1    M            298.1                 308.6            1551.0   \n",
      "1         2    L            298.2                 308.7            1408.0   \n",
      "2         3    L            298.1                 308.5            1498.0   \n",
      "3         4    L            298.2                 308.6            1433.0   \n",
      "4         5    L            298.2                 308.7            1408.0   \n",
      "...     ...  ...              ...                   ...               ...   \n",
      "9995   9996    M            298.8                 308.4            1604.0   \n",
      "9996   9997    H            298.9                 308.4            1632.0   \n",
      "9997   9998    M            299.0                 308.6            1645.0   \n",
      "9998   9999    H            299.0                 308.7            1408.0   \n",
      "9999  10000    M            299.0                 308.7            1500.0   \n",
      "\n",
      "      Torque  Tool_wear  Target Failure_Type  \n",
      "0       42.8        0.0     0.0   No Failure  \n",
      "1       46.3        3.0     0.0   No Failure  \n",
      "2       49.4        5.0     0.0   No Failure  \n",
      "3       39.5        7.0     0.0   No Failure  \n",
      "4       40.0        9.0     0.0   No Failure  \n",
      "...      ...        ...     ...          ...  \n",
      "9995    29.5       14.0     0.0   No Failure  \n",
      "9996    31.8       17.0     0.0   No Failure  \n",
      "9997    33.4       22.0     0.0   No Failure  \n",
      "9998    48.5       25.0     0.0   No Failure  \n",
      "9999    40.2       30.0     0.0   No Failure  \n",
      "\n",
      "[10000 rows x 9 columns]\n"
     ]
    }
   ],
   "source": [
    "\n",
    "dataframe['Tool_wear'] = dataframe['Tool_wear'].astype('float64')\n",
    "dataframe['Rotational_speed'] = dataframe['Rotational_speed'].astype('float64')\n",
    "dataframe['Target'] = dataframe['Target'].astype('float64')\n",
    "del dataframe['Product ID']\n",
    "print(dataframe)\n"
   ]
  },
  {
   "cell_type": "markdown",
   "metadata": {},
   "source": [
    "**NORMALIZAR LOS VALORES ORDINARIOS**"
   ]
  },
  {
   "cell_type": "code",
   "execution_count": 10,
   "metadata": {},
   "outputs": [
    {
     "data": {
      "text/plain": [
       "UDI                       int64\n",
       "Type                      int64\n",
       "Air_temperature         float64\n",
       "Process _temperature    float64\n",
       "Rotational_speed        float64\n",
       "Torque                  float64\n",
       "Tool_wear               float64\n",
       "Target                  float64\n",
       "Failure_Type              int64\n",
       "dtype: object"
      ]
     },
     "execution_count": 10,
     "metadata": {},
     "output_type": "execute_result"
    }
   ],
   "source": [
    "def normOrdinario(dataframe,attr):\n",
    "  categorias=dataframe[attr].unique()\n",
    "  diccionario = {}\n",
    "  index = 1\n",
    "  for i in categorias:\n",
    "    diccionario[i] = index\n",
    "    index +=1\n",
    "  dataframe[attr].replace(to_replace=diccionario, inplace=True)\n",
    "  return\n",
    "\n",
    "\n",
    "normOrdinario(dataframe,'Type')\n",
    "normOrdinario(dataframe,'Failure_Type')\n",
    "\n",
    "dataframe['Rotational_speed'] = dataframe['Rotational_speed'].astype('float64')\n",
    "dataframe['Target'] = dataframe['Target'].astype('float64')\n",
    "dataframe.dtypes"
   ]
  },
  {
   "cell_type": "code",
   "execution_count": 11,
   "metadata": {},
   "outputs": [
    {
     "data": {
      "text/plain": [
       "UDI                       int64\n",
       "Type                    float64\n",
       "Air_temperature         float64\n",
       "Process _temperature    float64\n",
       "Rotational_speed        float64\n",
       "Torque                  float64\n",
       "Tool_wear               float64\n",
       "Target                  float64\n",
       "Failure_Type            float64\n",
       "dtype: object"
      ]
     },
     "execution_count": 11,
     "metadata": {},
     "output_type": "execute_result"
    }
   ],
   "source": [
    "dataframe['Type'] = dataframe['Type'].astype('float64')\n",
    "dataframe['Failure_Type'] = dataframe['Failure_Type'].astype('float64')\n",
    "dataframe.dtypes"
   ]
  },
  {
   "cell_type": "code",
   "execution_count": 12,
   "metadata": {},
   "outputs": [
    {
     "data": {
      "text/html": [
       "<div>\n",
       "<style scoped>\n",
       "    .dataframe tbody tr th:only-of-type {\n",
       "        vertical-align: middle;\n",
       "    }\n",
       "\n",
       "    .dataframe tbody tr th {\n",
       "        vertical-align: top;\n",
       "    }\n",
       "\n",
       "    .dataframe thead th {\n",
       "        text-align: right;\n",
       "    }\n",
       "</style>\n",
       "<table border=\"1\" class=\"dataframe\">\n",
       "  <thead>\n",
       "    <tr style=\"text-align: right;\">\n",
       "      <th></th>\n",
       "      <th>UDI</th>\n",
       "      <th>Type</th>\n",
       "      <th>Air_temperature</th>\n",
       "      <th>Process _temperature</th>\n",
       "      <th>Rotational_speed</th>\n",
       "      <th>Torque</th>\n",
       "      <th>Tool_wear</th>\n",
       "      <th>Target</th>\n",
       "      <th>Failure_Type</th>\n",
       "    </tr>\n",
       "  </thead>\n",
       "  <tbody>\n",
       "    <tr>\n",
       "      <th>count</th>\n",
       "      <td>10000.00000</td>\n",
       "      <td>10000.00000</td>\n",
       "      <td>10000.000000</td>\n",
       "      <td>10000.000000</td>\n",
       "      <td>10000.000000</td>\n",
       "      <td>10000.000000</td>\n",
       "      <td>10000.000000</td>\n",
       "      <td>10000.000000</td>\n",
       "      <td>10000.000000</td>\n",
       "    </tr>\n",
       "    <tr>\n",
       "      <th>mean</th>\n",
       "      <td>5000.50000</td>\n",
       "      <td>1.80060</td>\n",
       "      <td>300.004930</td>\n",
       "      <td>310.005560</td>\n",
       "      <td>1538.776100</td>\n",
       "      <td>39.986910</td>\n",
       "      <td>107.951000</td>\n",
       "      <td>0.033900</td>\n",
       "      <td>1.105100</td>\n",
       "    </tr>\n",
       "    <tr>\n",
       "      <th>std</th>\n",
       "      <td>2886.89568</td>\n",
       "      <td>0.60023</td>\n",
       "      <td>2.000259</td>\n",
       "      <td>1.483734</td>\n",
       "      <td>179.284096</td>\n",
       "      <td>9.968934</td>\n",
       "      <td>63.654147</td>\n",
       "      <td>0.180981</td>\n",
       "      <td>0.628883</td>\n",
       "    </tr>\n",
       "    <tr>\n",
       "      <th>min</th>\n",
       "      <td>1.00000</td>\n",
       "      <td>1.00000</td>\n",
       "      <td>295.300000</td>\n",
       "      <td>305.700000</td>\n",
       "      <td>1168.000000</td>\n",
       "      <td>3.800000</td>\n",
       "      <td>0.000000</td>\n",
       "      <td>0.000000</td>\n",
       "      <td>1.000000</td>\n",
       "    </tr>\n",
       "    <tr>\n",
       "      <th>25%</th>\n",
       "      <td>2500.75000</td>\n",
       "      <td>1.00000</td>\n",
       "      <td>298.300000</td>\n",
       "      <td>308.800000</td>\n",
       "      <td>1423.000000</td>\n",
       "      <td>33.200000</td>\n",
       "      <td>53.000000</td>\n",
       "      <td>0.000000</td>\n",
       "      <td>1.000000</td>\n",
       "    </tr>\n",
       "    <tr>\n",
       "      <th>50%</th>\n",
       "      <td>5000.50000</td>\n",
       "      <td>2.00000</td>\n",
       "      <td>300.100000</td>\n",
       "      <td>310.100000</td>\n",
       "      <td>1503.000000</td>\n",
       "      <td>40.100000</td>\n",
       "      <td>108.000000</td>\n",
       "      <td>0.000000</td>\n",
       "      <td>1.000000</td>\n",
       "    </tr>\n",
       "    <tr>\n",
       "      <th>75%</th>\n",
       "      <td>7500.25000</td>\n",
       "      <td>2.00000</td>\n",
       "      <td>301.500000</td>\n",
       "      <td>311.100000</td>\n",
       "      <td>1612.000000</td>\n",
       "      <td>46.800000</td>\n",
       "      <td>162.000000</td>\n",
       "      <td>0.000000</td>\n",
       "      <td>1.000000</td>\n",
       "    </tr>\n",
       "    <tr>\n",
       "      <th>max</th>\n",
       "      <td>10000.00000</td>\n",
       "      <td>3.00000</td>\n",
       "      <td>304.500000</td>\n",
       "      <td>313.800000</td>\n",
       "      <td>2886.000000</td>\n",
       "      <td>76.600000</td>\n",
       "      <td>253.000000</td>\n",
       "      <td>1.000000</td>\n",
       "      <td>6.000000</td>\n",
       "    </tr>\n",
       "  </tbody>\n",
       "</table>\n",
       "</div>"
      ],
      "text/plain": [
       "               UDI         Type  Air_temperature  Process _temperature  \\\n",
       "count  10000.00000  10000.00000     10000.000000          10000.000000   \n",
       "mean    5000.50000      1.80060       300.004930            310.005560   \n",
       "std     2886.89568      0.60023         2.000259              1.483734   \n",
       "min        1.00000      1.00000       295.300000            305.700000   \n",
       "25%     2500.75000      1.00000       298.300000            308.800000   \n",
       "50%     5000.50000      2.00000       300.100000            310.100000   \n",
       "75%     7500.25000      2.00000       301.500000            311.100000   \n",
       "max    10000.00000      3.00000       304.500000            313.800000   \n",
       "\n",
       "       Rotational_speed        Torque     Tool_wear        Target  \\\n",
       "count      10000.000000  10000.000000  10000.000000  10000.000000   \n",
       "mean        1538.776100     39.986910    107.951000      0.033900   \n",
       "std          179.284096      9.968934     63.654147      0.180981   \n",
       "min         1168.000000      3.800000      0.000000      0.000000   \n",
       "25%         1423.000000     33.200000     53.000000      0.000000   \n",
       "50%         1503.000000     40.100000    108.000000      0.000000   \n",
       "75%         1612.000000     46.800000    162.000000      0.000000   \n",
       "max         2886.000000     76.600000    253.000000      1.000000   \n",
       "\n",
       "       Failure_Type  \n",
       "count  10000.000000  \n",
       "mean       1.105100  \n",
       "std        0.628883  \n",
       "min        1.000000  \n",
       "25%        1.000000  \n",
       "50%        1.000000  \n",
       "75%        1.000000  \n",
       "max        6.000000  "
      ]
     },
     "execution_count": 12,
     "metadata": {},
     "output_type": "execute_result"
    }
   ],
   "source": [
    "dataframe.describe()\n",
    "#print(df.query(\"Failure_Type == 5\"))\n",
    "#print(df.query(\"Type == 2\"))"
   ]
  },
  {
   "cell_type": "code",
   "execution_count": 13,
   "metadata": {},
   "outputs": [
    {
     "name": "stdout",
     "output_type": "stream",
     "text": [
      "UDI                     0\n",
      "Type                    0\n",
      "Air_temperature         0\n",
      "Process _temperature    0\n",
      "Rotational_speed        0\n",
      "Torque                  0\n",
      "Tool_wear               0\n",
      "Target                  0\n",
      "Failure_Type            0\n",
      "dtype: int64\n"
     ]
    }
   ],
   "source": [
    "porImputar = dataframe.isna().sum()\n",
    "print(porImputar)"
   ]
  },
  {
   "cell_type": "code",
   "execution_count": 14,
   "metadata": {},
   "outputs": [
    {
     "data": {
      "text/html": [
       "<div>\n",
       "<style scoped>\n",
       "    .dataframe tbody tr th:only-of-type {\n",
       "        vertical-align: middle;\n",
       "    }\n",
       "\n",
       "    .dataframe tbody tr th {\n",
       "        vertical-align: top;\n",
       "    }\n",
       "\n",
       "    .dataframe thead th {\n",
       "        text-align: right;\n",
       "    }\n",
       "</style>\n",
       "<table border=\"1\" class=\"dataframe\">\n",
       "  <thead>\n",
       "    <tr style=\"text-align: right;\">\n",
       "      <th></th>\n",
       "      <th>UDI</th>\n",
       "      <th>Type</th>\n",
       "      <th>Air_temperature</th>\n",
       "      <th>Process _temperature</th>\n",
       "      <th>Rotational_speed</th>\n",
       "      <th>Torque</th>\n",
       "      <th>Tool_wear</th>\n",
       "      <th>Target</th>\n",
       "      <th>Failure_Type</th>\n",
       "    </tr>\n",
       "  </thead>\n",
       "  <tbody>\n",
       "    <tr>\n",
       "      <th>UDI</th>\n",
       "      <td>1.000000</td>\n",
       "      <td>-0.005529</td>\n",
       "      <td>0.117428</td>\n",
       "      <td>0.324428</td>\n",
       "      <td>-0.006615</td>\n",
       "      <td>0.003207</td>\n",
       "      <td>-0.010702</td>\n",
       "      <td>-0.022892</td>\n",
       "      <td>-0.022649</td>\n",
       "    </tr>\n",
       "    <tr>\n",
       "      <th>Type</th>\n",
       "      <td>-0.005529</td>\n",
       "      <td>1.000000</td>\n",
       "      <td>-0.017599</td>\n",
       "      <td>-0.013444</td>\n",
       "      <td>0.002693</td>\n",
       "      <td>-0.004011</td>\n",
       "      <td>0.003930</td>\n",
       "      <td>0.005152</td>\n",
       "      <td>0.014988</td>\n",
       "    </tr>\n",
       "    <tr>\n",
       "      <th>Air_temperature</th>\n",
       "      <td>0.117428</td>\n",
       "      <td>-0.017599</td>\n",
       "      <td>1.000000</td>\n",
       "      <td>0.876107</td>\n",
       "      <td>0.022670</td>\n",
       "      <td>-0.013778</td>\n",
       "      <td>0.013853</td>\n",
       "      <td>0.082556</td>\n",
       "      <td>0.118486</td>\n",
       "    </tr>\n",
       "    <tr>\n",
       "      <th>Process _temperature</th>\n",
       "      <td>0.324428</td>\n",
       "      <td>-0.013444</td>\n",
       "      <td>0.876107</td>\n",
       "      <td>1.000000</td>\n",
       "      <td>0.019277</td>\n",
       "      <td>-0.014061</td>\n",
       "      <td>0.013488</td>\n",
       "      <td>0.035946</td>\n",
       "      <td>0.055579</td>\n",
       "    </tr>\n",
       "    <tr>\n",
       "      <th>Rotational_speed</th>\n",
       "      <td>-0.006615</td>\n",
       "      <td>0.002693</td>\n",
       "      <td>0.022670</td>\n",
       "      <td>0.019277</td>\n",
       "      <td>1.000000</td>\n",
       "      <td>-0.875027</td>\n",
       "      <td>0.000223</td>\n",
       "      <td>-0.044188</td>\n",
       "      <td>-0.119680</td>\n",
       "    </tr>\n",
       "    <tr>\n",
       "      <th>Torque</th>\n",
       "      <td>0.003207</td>\n",
       "      <td>-0.004011</td>\n",
       "      <td>-0.013778</td>\n",
       "      <td>-0.014061</td>\n",
       "      <td>-0.875027</td>\n",
       "      <td>1.000000</td>\n",
       "      <td>-0.003093</td>\n",
       "      <td>0.191321</td>\n",
       "      <td>0.190346</td>\n",
       "    </tr>\n",
       "    <tr>\n",
       "      <th>Tool_wear</th>\n",
       "      <td>-0.010702</td>\n",
       "      <td>0.003930</td>\n",
       "      <td>0.013853</td>\n",
       "      <td>0.013488</td>\n",
       "      <td>0.000223</td>\n",
       "      <td>-0.003093</td>\n",
       "      <td>1.000000</td>\n",
       "      <td>0.105448</td>\n",
       "      <td>0.082888</td>\n",
       "    </tr>\n",
       "    <tr>\n",
       "      <th>Target</th>\n",
       "      <td>-0.022892</td>\n",
       "      <td>0.005152</td>\n",
       "      <td>0.082556</td>\n",
       "      <td>0.035946</td>\n",
       "      <td>-0.044188</td>\n",
       "      <td>0.191321</td>\n",
       "      <td>0.105448</td>\n",
       "      <td>1.000000</td>\n",
       "      <td>0.828941</td>\n",
       "    </tr>\n",
       "    <tr>\n",
       "      <th>Failure_Type</th>\n",
       "      <td>-0.022649</td>\n",
       "      <td>0.014988</td>\n",
       "      <td>0.118486</td>\n",
       "      <td>0.055579</td>\n",
       "      <td>-0.119680</td>\n",
       "      <td>0.190346</td>\n",
       "      <td>0.082888</td>\n",
       "      <td>0.828941</td>\n",
       "      <td>1.000000</td>\n",
       "    </tr>\n",
       "  </tbody>\n",
       "</table>\n",
       "</div>"
      ],
      "text/plain": [
       "                           UDI      Type  Air_temperature  \\\n",
       "UDI                   1.000000 -0.005529         0.117428   \n",
       "Type                 -0.005529  1.000000        -0.017599   \n",
       "Air_temperature       0.117428 -0.017599         1.000000   \n",
       "Process _temperature  0.324428 -0.013444         0.876107   \n",
       "Rotational_speed     -0.006615  0.002693         0.022670   \n",
       "Torque                0.003207 -0.004011        -0.013778   \n",
       "Tool_wear            -0.010702  0.003930         0.013853   \n",
       "Target               -0.022892  0.005152         0.082556   \n",
       "Failure_Type         -0.022649  0.014988         0.118486   \n",
       "\n",
       "                      Process _temperature  Rotational_speed    Torque  \\\n",
       "UDI                               0.324428         -0.006615  0.003207   \n",
       "Type                             -0.013444          0.002693 -0.004011   \n",
       "Air_temperature                   0.876107          0.022670 -0.013778   \n",
       "Process _temperature              1.000000          0.019277 -0.014061   \n",
       "Rotational_speed                  0.019277          1.000000 -0.875027   \n",
       "Torque                           -0.014061         -0.875027  1.000000   \n",
       "Tool_wear                         0.013488          0.000223 -0.003093   \n",
       "Target                            0.035946         -0.044188  0.191321   \n",
       "Failure_Type                      0.055579         -0.119680  0.190346   \n",
       "\n",
       "                      Tool_wear    Target  Failure_Type  \n",
       "UDI                   -0.010702 -0.022892     -0.022649  \n",
       "Type                   0.003930  0.005152      0.014988  \n",
       "Air_temperature        0.013853  0.082556      0.118486  \n",
       "Process _temperature   0.013488  0.035946      0.055579  \n",
       "Rotational_speed       0.000223 -0.044188     -0.119680  \n",
       "Torque                -0.003093  0.191321      0.190346  \n",
       "Tool_wear              1.000000  0.105448      0.082888  \n",
       "Target                 0.105448  1.000000      0.828941  \n",
       "Failure_Type           0.082888  0.828941      1.000000  "
      ]
     },
     "execution_count": 14,
     "metadata": {},
     "output_type": "execute_result"
    }
   ],
   "source": [
    "dataframe.corr()"
   ]
  },
  {
   "cell_type": "code",
   "execution_count": 15,
   "metadata": {},
   "outputs": [
    {
     "name": "stderr",
     "output_type": "stream",
     "text": [
      "C:\\Users\\garci\\AppData\\Local\\Temp\\ipykernel_17200\\297267126.py:12: SettingWithCopyWarning: \n",
      "A value is trying to be set on a copy of a slice from a DataFrame\n",
      "\n",
      "See the caveats in the documentation: https://pandas.pydata.org/pandas-docs/stable/user_guide/indexing.html#returning-a-view-versus-a-copy\n",
      "  dataframe[columnaNormalizar][p] = (((i-minimoDeLosDatos)/rangoDeDatos)*rangoNormalizado)+minimoNormalizado\n"
     ]
    },
    {
     "data": {
      "text/html": [
       "<div>\n",
       "<style scoped>\n",
       "    .dataframe tbody tr th:only-of-type {\n",
       "        vertical-align: middle;\n",
       "    }\n",
       "\n",
       "    .dataframe tbody tr th {\n",
       "        vertical-align: top;\n",
       "    }\n",
       "\n",
       "    .dataframe thead th {\n",
       "        text-align: right;\n",
       "    }\n",
       "</style>\n",
       "<table border=\"1\" class=\"dataframe\">\n",
       "  <thead>\n",
       "    <tr style=\"text-align: right;\">\n",
       "      <th></th>\n",
       "      <th>UDI</th>\n",
       "      <th>Type</th>\n",
       "      <th>Air_temperature</th>\n",
       "      <th>Process _temperature</th>\n",
       "      <th>Rotational_speed</th>\n",
       "      <th>Torque</th>\n",
       "      <th>Tool_wear</th>\n",
       "      <th>Target</th>\n",
       "      <th>Failure_Type</th>\n",
       "    </tr>\n",
       "  </thead>\n",
       "  <tbody>\n",
       "    <tr>\n",
       "      <th>0</th>\n",
       "      <td>1</td>\n",
       "      <td>1.0</td>\n",
       "      <td>0.304348</td>\n",
       "      <td>0.358025</td>\n",
       "      <td>0.222934</td>\n",
       "      <td>42.8</td>\n",
       "      <td>0.0</td>\n",
       "      <td>0.0</td>\n",
       "      <td>1.0</td>\n",
       "    </tr>\n",
       "    <tr>\n",
       "      <th>1</th>\n",
       "      <td>2</td>\n",
       "      <td>2.0</td>\n",
       "      <td>0.315217</td>\n",
       "      <td>0.370370</td>\n",
       "      <td>0.139697</td>\n",
       "      <td>46.3</td>\n",
       "      <td>3.0</td>\n",
       "      <td>0.0</td>\n",
       "      <td>1.0</td>\n",
       "    </tr>\n",
       "    <tr>\n",
       "      <th>2</th>\n",
       "      <td>3</td>\n",
       "      <td>2.0</td>\n",
       "      <td>0.304348</td>\n",
       "      <td>0.345679</td>\n",
       "      <td>0.192084</td>\n",
       "      <td>49.4</td>\n",
       "      <td>5.0</td>\n",
       "      <td>0.0</td>\n",
       "      <td>1.0</td>\n",
       "    </tr>\n",
       "    <tr>\n",
       "      <th>3</th>\n",
       "      <td>4</td>\n",
       "      <td>2.0</td>\n",
       "      <td>0.315217</td>\n",
       "      <td>0.358025</td>\n",
       "      <td>0.154249</td>\n",
       "      <td>39.5</td>\n",
       "      <td>7.0</td>\n",
       "      <td>0.0</td>\n",
       "      <td>1.0</td>\n",
       "    </tr>\n",
       "    <tr>\n",
       "      <th>4</th>\n",
       "      <td>5</td>\n",
       "      <td>2.0</td>\n",
       "      <td>0.315217</td>\n",
       "      <td>0.370370</td>\n",
       "      <td>0.139697</td>\n",
       "      <td>40.0</td>\n",
       "      <td>9.0</td>\n",
       "      <td>0.0</td>\n",
       "      <td>1.0</td>\n",
       "    </tr>\n",
       "    <tr>\n",
       "      <th>...</th>\n",
       "      <td>...</td>\n",
       "      <td>...</td>\n",
       "      <td>...</td>\n",
       "      <td>...</td>\n",
       "      <td>...</td>\n",
       "      <td>...</td>\n",
       "      <td>...</td>\n",
       "      <td>...</td>\n",
       "      <td>...</td>\n",
       "    </tr>\n",
       "    <tr>\n",
       "      <th>9995</th>\n",
       "      <td>9996</td>\n",
       "      <td>1.0</td>\n",
       "      <td>0.380435</td>\n",
       "      <td>0.333333</td>\n",
       "      <td>0.253783</td>\n",
       "      <td>29.5</td>\n",
       "      <td>14.0</td>\n",
       "      <td>0.0</td>\n",
       "      <td>1.0</td>\n",
       "    </tr>\n",
       "    <tr>\n",
       "      <th>9996</th>\n",
       "      <td>9997</td>\n",
       "      <td>3.0</td>\n",
       "      <td>0.391304</td>\n",
       "      <td>0.333333</td>\n",
       "      <td>0.270081</td>\n",
       "      <td>31.8</td>\n",
       "      <td>17.0</td>\n",
       "      <td>0.0</td>\n",
       "      <td>1.0</td>\n",
       "    </tr>\n",
       "    <tr>\n",
       "      <th>9997</th>\n",
       "      <td>9998</td>\n",
       "      <td>1.0</td>\n",
       "      <td>0.402174</td>\n",
       "      <td>0.358025</td>\n",
       "      <td>0.277648</td>\n",
       "      <td>33.4</td>\n",
       "      <td>22.0</td>\n",
       "      <td>0.0</td>\n",
       "      <td>1.0</td>\n",
       "    </tr>\n",
       "    <tr>\n",
       "      <th>9998</th>\n",
       "      <td>9999</td>\n",
       "      <td>3.0</td>\n",
       "      <td>0.402174</td>\n",
       "      <td>0.370370</td>\n",
       "      <td>0.139697</td>\n",
       "      <td>48.5</td>\n",
       "      <td>25.0</td>\n",
       "      <td>0.0</td>\n",
       "      <td>1.0</td>\n",
       "    </tr>\n",
       "    <tr>\n",
       "      <th>9999</th>\n",
       "      <td>10000</td>\n",
       "      <td>1.0</td>\n",
       "      <td>0.402174</td>\n",
       "      <td>0.370370</td>\n",
       "      <td>0.193248</td>\n",
       "      <td>40.2</td>\n",
       "      <td>30.0</td>\n",
       "      <td>0.0</td>\n",
       "      <td>1.0</td>\n",
       "    </tr>\n",
       "  </tbody>\n",
       "</table>\n",
       "<p>10000 rows × 9 columns</p>\n",
       "</div>"
      ],
      "text/plain": [
       "        UDI  Type  Air_temperature  Process _temperature  Rotational_speed  \\\n",
       "0         1   1.0         0.304348              0.358025          0.222934   \n",
       "1         2   2.0         0.315217              0.370370          0.139697   \n",
       "2         3   2.0         0.304348              0.345679          0.192084   \n",
       "3         4   2.0         0.315217              0.358025          0.154249   \n",
       "4         5   2.0         0.315217              0.370370          0.139697   \n",
       "...     ...   ...              ...                   ...               ...   \n",
       "9995   9996   1.0         0.380435              0.333333          0.253783   \n",
       "9996   9997   3.0         0.391304              0.333333          0.270081   \n",
       "9997   9998   1.0         0.402174              0.358025          0.277648   \n",
       "9998   9999   3.0         0.402174              0.370370          0.139697   \n",
       "9999  10000   1.0         0.402174              0.370370          0.193248   \n",
       "\n",
       "      Torque  Tool_wear  Target  Failure_Type  \n",
       "0       42.8        0.0     0.0           1.0  \n",
       "1       46.3        3.0     0.0           1.0  \n",
       "2       49.4        5.0     0.0           1.0  \n",
       "3       39.5        7.0     0.0           1.0  \n",
       "4       40.0        9.0     0.0           1.0  \n",
       "...      ...        ...     ...           ...  \n",
       "9995    29.5       14.0     0.0           1.0  \n",
       "9996    31.8       17.0     0.0           1.0  \n",
       "9997    33.4       22.0     0.0           1.0  \n",
       "9998    48.5       25.0     0.0           1.0  \n",
       "9999    40.2       30.0     0.0           1.0  \n",
       "\n",
       "[10000 rows x 9 columns]"
      ]
     },
     "execution_count": 15,
     "metadata": {},
     "output_type": "execute_result"
    }
   ],
   "source": [
    "def minMaxNorma01(dataframe,columnaNormalizar):\n",
    "    maximoDeLosDatos = dataframe[columnaNormalizar].max()\n",
    "    minimoDeLosDatos = dataframe[columnaNormalizar].min()\n",
    "    maximoNormalizado = 1\n",
    "    minimoNormalizado = 0\n",
    "\n",
    "    rangoDeDatos = maximoDeLosDatos - minimoDeLosDatos\n",
    "    rangoNormalizado = maximoNormalizado - minimoNormalizado\n",
    "\n",
    "    p = 0\n",
    "    for i in dataframe[columnaNormalizar]:\n",
    "        dataframe[columnaNormalizar][p] = (((i-minimoDeLosDatos)/rangoDeDatos)*rangoNormalizado)+minimoNormalizado\n",
    "        p += 1\n",
    "    return dataframe\n",
    "\n",
    "minMaxNorma01(dataframe,'Air_temperature')\n",
    "minMaxNorma01(dataframe,'Process _temperature')\n",
    "minMaxNorma01(dataframe,'Rotational_speed')"
   ]
  },
  {
   "cell_type": "code",
   "execution_count": 16,
   "metadata": {},
   "outputs": [
    {
     "data": {
      "text/html": [
       "<div>\n",
       "<style scoped>\n",
       "    .dataframe tbody tr th:only-of-type {\n",
       "        vertical-align: middle;\n",
       "    }\n",
       "\n",
       "    .dataframe tbody tr th {\n",
       "        vertical-align: top;\n",
       "    }\n",
       "\n",
       "    .dataframe thead th {\n",
       "        text-align: right;\n",
       "    }\n",
       "</style>\n",
       "<table border=\"1\" class=\"dataframe\">\n",
       "  <thead>\n",
       "    <tr style=\"text-align: right;\">\n",
       "      <th></th>\n",
       "      <th>UDI</th>\n",
       "      <th>Type</th>\n",
       "      <th>Air_temperature</th>\n",
       "      <th>Process _temperature</th>\n",
       "      <th>Rotational_speed</th>\n",
       "      <th>Torque</th>\n",
       "      <th>Tool_wear</th>\n",
       "      <th>Target</th>\n",
       "      <th>Failure_Type</th>\n",
       "    </tr>\n",
       "  </thead>\n",
       "  <tbody>\n",
       "    <tr>\n",
       "      <th>count</th>\n",
       "      <td>10000.00000</td>\n",
       "      <td>10000.00000</td>\n",
       "      <td>10000.000000</td>\n",
       "      <td>10000.000000</td>\n",
       "      <td>10000.000000</td>\n",
       "      <td>10000.000000</td>\n",
       "      <td>10000.000000</td>\n",
       "      <td>10000.000000</td>\n",
       "      <td>10000.000000</td>\n",
       "    </tr>\n",
       "    <tr>\n",
       "      <th>mean</th>\n",
       "      <td>5000.50000</td>\n",
       "      <td>1.80060</td>\n",
       "      <td>0.511405</td>\n",
       "      <td>0.531551</td>\n",
       "      <td>0.215818</td>\n",
       "      <td>39.986910</td>\n",
       "      <td>107.951000</td>\n",
       "      <td>0.033900</td>\n",
       "      <td>1.105100</td>\n",
       "    </tr>\n",
       "    <tr>\n",
       "      <th>std</th>\n",
       "      <td>2886.89568</td>\n",
       "      <td>0.60023</td>\n",
       "      <td>0.217419</td>\n",
       "      <td>0.183177</td>\n",
       "      <td>0.104356</td>\n",
       "      <td>9.968934</td>\n",
       "      <td>63.654147</td>\n",
       "      <td>0.180981</td>\n",
       "      <td>0.628883</td>\n",
       "    </tr>\n",
       "    <tr>\n",
       "      <th>min</th>\n",
       "      <td>1.00000</td>\n",
       "      <td>1.00000</td>\n",
       "      <td>0.000000</td>\n",
       "      <td>0.000000</td>\n",
       "      <td>0.000000</td>\n",
       "      <td>3.800000</td>\n",
       "      <td>0.000000</td>\n",
       "      <td>0.000000</td>\n",
       "      <td>1.000000</td>\n",
       "    </tr>\n",
       "    <tr>\n",
       "      <th>25%</th>\n",
       "      <td>2500.75000</td>\n",
       "      <td>1.00000</td>\n",
       "      <td>0.326087</td>\n",
       "      <td>0.382716</td>\n",
       "      <td>0.148428</td>\n",
       "      <td>33.200000</td>\n",
       "      <td>53.000000</td>\n",
       "      <td>0.000000</td>\n",
       "      <td>1.000000</td>\n",
       "    </tr>\n",
       "    <tr>\n",
       "      <th>50%</th>\n",
       "      <td>5000.50000</td>\n",
       "      <td>2.00000</td>\n",
       "      <td>0.521739</td>\n",
       "      <td>0.543210</td>\n",
       "      <td>0.194994</td>\n",
       "      <td>40.100000</td>\n",
       "      <td>108.000000</td>\n",
       "      <td>0.000000</td>\n",
       "      <td>1.000000</td>\n",
       "    </tr>\n",
       "    <tr>\n",
       "      <th>75%</th>\n",
       "      <td>7500.25000</td>\n",
       "      <td>2.00000</td>\n",
       "      <td>0.673913</td>\n",
       "      <td>0.666667</td>\n",
       "      <td>0.258440</td>\n",
       "      <td>46.800000</td>\n",
       "      <td>162.000000</td>\n",
       "      <td>0.000000</td>\n",
       "      <td>1.000000</td>\n",
       "    </tr>\n",
       "    <tr>\n",
       "      <th>max</th>\n",
       "      <td>10000.00000</td>\n",
       "      <td>3.00000</td>\n",
       "      <td>1.000000</td>\n",
       "      <td>1.000000</td>\n",
       "      <td>1.000000</td>\n",
       "      <td>76.600000</td>\n",
       "      <td>253.000000</td>\n",
       "      <td>1.000000</td>\n",
       "      <td>6.000000</td>\n",
       "    </tr>\n",
       "  </tbody>\n",
       "</table>\n",
       "</div>"
      ],
      "text/plain": [
       "               UDI         Type  Air_temperature  Process _temperature  \\\n",
       "count  10000.00000  10000.00000     10000.000000          10000.000000   \n",
       "mean    5000.50000      1.80060         0.511405              0.531551   \n",
       "std     2886.89568      0.60023         0.217419              0.183177   \n",
       "min        1.00000      1.00000         0.000000              0.000000   \n",
       "25%     2500.75000      1.00000         0.326087              0.382716   \n",
       "50%     5000.50000      2.00000         0.521739              0.543210   \n",
       "75%     7500.25000      2.00000         0.673913              0.666667   \n",
       "max    10000.00000      3.00000         1.000000              1.000000   \n",
       "\n",
       "       Rotational_speed        Torque     Tool_wear        Target  \\\n",
       "count      10000.000000  10000.000000  10000.000000  10000.000000   \n",
       "mean           0.215818     39.986910    107.951000      0.033900   \n",
       "std            0.104356      9.968934     63.654147      0.180981   \n",
       "min            0.000000      3.800000      0.000000      0.000000   \n",
       "25%            0.148428     33.200000     53.000000      0.000000   \n",
       "50%            0.194994     40.100000    108.000000      0.000000   \n",
       "75%            0.258440     46.800000    162.000000      0.000000   \n",
       "max            1.000000     76.600000    253.000000      1.000000   \n",
       "\n",
       "       Failure_Type  \n",
       "count  10000.000000  \n",
       "mean       1.105100  \n",
       "std        0.628883  \n",
       "min        1.000000  \n",
       "25%        1.000000  \n",
       "50%        1.000000  \n",
       "75%        1.000000  \n",
       "max        6.000000  "
      ]
     },
     "execution_count": 16,
     "metadata": {},
     "output_type": "execute_result"
    }
   ],
   "source": [
    "dataframe.describe()"
   ]
  },
  {
   "cell_type": "code",
   "execution_count": 17,
   "metadata": {},
   "outputs": [
    {
     "data": {
      "text/html": [
       "<div>\n",
       "<style scoped>\n",
       "    .dataframe tbody tr th:only-of-type {\n",
       "        vertical-align: middle;\n",
       "    }\n",
       "\n",
       "    .dataframe tbody tr th {\n",
       "        vertical-align: top;\n",
       "    }\n",
       "\n",
       "    .dataframe thead th {\n",
       "        text-align: right;\n",
       "    }\n",
       "</style>\n",
       "<table border=\"1\" class=\"dataframe\">\n",
       "  <thead>\n",
       "    <tr style=\"text-align: right;\">\n",
       "      <th></th>\n",
       "      <th>UDI</th>\n",
       "      <th>Type</th>\n",
       "      <th>Air_temperature</th>\n",
       "      <th>Process _temperature</th>\n",
       "      <th>Rotational_speed</th>\n",
       "      <th>Torque</th>\n",
       "      <th>Tool_wear</th>\n",
       "      <th>Target</th>\n",
       "      <th>Failure_Type</th>\n",
       "    </tr>\n",
       "  </thead>\n",
       "  <tbody>\n",
       "    <tr>\n",
       "      <th>UDI</th>\n",
       "      <td>1.000000</td>\n",
       "      <td>-0.005529</td>\n",
       "      <td>0.117428</td>\n",
       "      <td>0.324428</td>\n",
       "      <td>-0.006615</td>\n",
       "      <td>0.003207</td>\n",
       "      <td>-0.010702</td>\n",
       "      <td>-0.022892</td>\n",
       "      <td>-0.022649</td>\n",
       "    </tr>\n",
       "    <tr>\n",
       "      <th>Type</th>\n",
       "      <td>-0.005529</td>\n",
       "      <td>1.000000</td>\n",
       "      <td>-0.017599</td>\n",
       "      <td>-0.013444</td>\n",
       "      <td>0.002693</td>\n",
       "      <td>-0.004011</td>\n",
       "      <td>0.003930</td>\n",
       "      <td>0.005152</td>\n",
       "      <td>0.014988</td>\n",
       "    </tr>\n",
       "    <tr>\n",
       "      <th>Air_temperature</th>\n",
       "      <td>0.117428</td>\n",
       "      <td>-0.017599</td>\n",
       "      <td>1.000000</td>\n",
       "      <td>0.876107</td>\n",
       "      <td>0.022670</td>\n",
       "      <td>-0.013778</td>\n",
       "      <td>0.013853</td>\n",
       "      <td>0.082556</td>\n",
       "      <td>0.118486</td>\n",
       "    </tr>\n",
       "    <tr>\n",
       "      <th>Process _temperature</th>\n",
       "      <td>0.324428</td>\n",
       "      <td>-0.013444</td>\n",
       "      <td>0.876107</td>\n",
       "      <td>1.000000</td>\n",
       "      <td>0.019277</td>\n",
       "      <td>-0.014061</td>\n",
       "      <td>0.013488</td>\n",
       "      <td>0.035946</td>\n",
       "      <td>0.055579</td>\n",
       "    </tr>\n",
       "    <tr>\n",
       "      <th>Rotational_speed</th>\n",
       "      <td>-0.006615</td>\n",
       "      <td>0.002693</td>\n",
       "      <td>0.022670</td>\n",
       "      <td>0.019277</td>\n",
       "      <td>1.000000</td>\n",
       "      <td>-0.875027</td>\n",
       "      <td>0.000223</td>\n",
       "      <td>-0.044188</td>\n",
       "      <td>-0.119680</td>\n",
       "    </tr>\n",
       "    <tr>\n",
       "      <th>Torque</th>\n",
       "      <td>0.003207</td>\n",
       "      <td>-0.004011</td>\n",
       "      <td>-0.013778</td>\n",
       "      <td>-0.014061</td>\n",
       "      <td>-0.875027</td>\n",
       "      <td>1.000000</td>\n",
       "      <td>-0.003093</td>\n",
       "      <td>0.191321</td>\n",
       "      <td>0.190346</td>\n",
       "    </tr>\n",
       "    <tr>\n",
       "      <th>Tool_wear</th>\n",
       "      <td>-0.010702</td>\n",
       "      <td>0.003930</td>\n",
       "      <td>0.013853</td>\n",
       "      <td>0.013488</td>\n",
       "      <td>0.000223</td>\n",
       "      <td>-0.003093</td>\n",
       "      <td>1.000000</td>\n",
       "      <td>0.105448</td>\n",
       "      <td>0.082888</td>\n",
       "    </tr>\n",
       "    <tr>\n",
       "      <th>Target</th>\n",
       "      <td>-0.022892</td>\n",
       "      <td>0.005152</td>\n",
       "      <td>0.082556</td>\n",
       "      <td>0.035946</td>\n",
       "      <td>-0.044188</td>\n",
       "      <td>0.191321</td>\n",
       "      <td>0.105448</td>\n",
       "      <td>1.000000</td>\n",
       "      <td>0.828941</td>\n",
       "    </tr>\n",
       "    <tr>\n",
       "      <th>Failure_Type</th>\n",
       "      <td>-0.022649</td>\n",
       "      <td>0.014988</td>\n",
       "      <td>0.118486</td>\n",
       "      <td>0.055579</td>\n",
       "      <td>-0.119680</td>\n",
       "      <td>0.190346</td>\n",
       "      <td>0.082888</td>\n",
       "      <td>0.828941</td>\n",
       "      <td>1.000000</td>\n",
       "    </tr>\n",
       "  </tbody>\n",
       "</table>\n",
       "</div>"
      ],
      "text/plain": [
       "                           UDI      Type  Air_temperature  \\\n",
       "UDI                   1.000000 -0.005529         0.117428   \n",
       "Type                 -0.005529  1.000000        -0.017599   \n",
       "Air_temperature       0.117428 -0.017599         1.000000   \n",
       "Process _temperature  0.324428 -0.013444         0.876107   \n",
       "Rotational_speed     -0.006615  0.002693         0.022670   \n",
       "Torque                0.003207 -0.004011        -0.013778   \n",
       "Tool_wear            -0.010702  0.003930         0.013853   \n",
       "Target               -0.022892  0.005152         0.082556   \n",
       "Failure_Type         -0.022649  0.014988         0.118486   \n",
       "\n",
       "                      Process _temperature  Rotational_speed    Torque  \\\n",
       "UDI                               0.324428         -0.006615  0.003207   \n",
       "Type                             -0.013444          0.002693 -0.004011   \n",
       "Air_temperature                   0.876107          0.022670 -0.013778   \n",
       "Process _temperature              1.000000          0.019277 -0.014061   \n",
       "Rotational_speed                  0.019277          1.000000 -0.875027   \n",
       "Torque                           -0.014061         -0.875027  1.000000   \n",
       "Tool_wear                         0.013488          0.000223 -0.003093   \n",
       "Target                            0.035946         -0.044188  0.191321   \n",
       "Failure_Type                      0.055579         -0.119680  0.190346   \n",
       "\n",
       "                      Tool_wear    Target  Failure_Type  \n",
       "UDI                   -0.010702 -0.022892     -0.022649  \n",
       "Type                   0.003930  0.005152      0.014988  \n",
       "Air_temperature        0.013853  0.082556      0.118486  \n",
       "Process _temperature   0.013488  0.035946      0.055579  \n",
       "Rotational_speed       0.000223 -0.044188     -0.119680  \n",
       "Torque                -0.003093  0.191321      0.190346  \n",
       "Tool_wear              1.000000  0.105448      0.082888  \n",
       "Target                 0.105448  1.000000      0.828941  \n",
       "Failure_Type           0.082888  0.828941      1.000000  "
      ]
     },
     "execution_count": 17,
     "metadata": {},
     "output_type": "execute_result"
    }
   ],
   "source": [
    "dataframe.corr()"
   ]
  },
  {
   "cell_type": "code",
   "execution_count": 34,
   "metadata": {},
   "outputs": [],
   "source": [
    "data50 = dataframe.copy()\n",
    "data10 = dataframe.copy()\n",
    "data30 = dataframe.copy()\n",
    "\n",
    "def remove_data(porcentaje,data_frame,attribute_name):\n",
    "    for _ in range((len(data_frame[attribute_name])*porcentaje)//100):\n",
    "        data_frame.loc[random.randint(4,len(data_frame[attribute_name]) - 4),attribute_name]=np.nan\n",
    "    \n",
    "remove_data(10,data10,\"Air_temperature\")\n",
    "remove_data(30,data30,\"Air_temperature\")\n",
    "remove_data(100,data50,\"Air_temperature\")"
   ]
  },
  {
   "cell_type": "code",
   "execution_count": 35,
   "metadata": {},
   "outputs": [
    {
     "data": {
      "text/plain": [
       "<seaborn.axisgrid.FacetGrid at 0x22a880c6fe0>"
      ]
     },
     "execution_count": 35,
     "metadata": {},
     "output_type": "execute_result"
    },
    {
     "data": {
      "image/png": "[encoded data removed]",
      "text/plain": [
       "<Figure size 360x360 with 1 Axes>"
      ]
     },
     "metadata": {
      "needs_background": "light"
     },
     "output_type": "display_data"
    },
    {
     "data": {
      "image/png": "[encoded data removed]",
      "text/plain": [
       "<Figure size 360x360 with 1 Axes>"
      ]
     },
     "metadata": {
      "needs_background": "light"
     },
     "output_type": "display_data"
    },
    {
     "data": {
      "image/png": "[encoded data removed]",
      "text/plain": [
       "<Figure size 360x360 with 1 Axes>"
      ]
     },
     "metadata": {
      "needs_background": "light"
     },
     "output_type": "display_data"
    },
    {
     "data": {
      "image/png": "[encoded data removed]",
      "text/plain": [
       "<Figure size 360x360 with 1 Axes>"
      ]
     },
     "metadata": {
      "needs_background": "light"
     },
     "output_type": "display_data"
    }
   ],
   "source": [
    "sns.displot(dataframe[\"Air_temperature\"])\n",
    "sns.displot(data10[\"Air_temperature\"])\n",
    "sns.displot(data30[\"Air_temperature\"])\n",
    "sns.displot(data50[\"Air_temperature\"])"
   ]
  },
  {
   "cell_type": "code",
   "execution_count": 62,
   "metadata": {},
   "outputs": [],
   "source": [
    "\n",
    "def empty_coordinates_attribute(data_frame,attribute_name):\n",
    "    c=[]\n",
    "    for i in range(len(data_frame)):\n",
    "        if pd.isna(data_frame.iloc[i][attribute_name]):\n",
    "            c.append(i)\n",
    "    return c\n",
    "\n",
    "from sklearn.impute import KNNImputer \n",
    "def KNN(data_frame,attribute_mising_data,attribute_name):\n",
    "    distancia=[]\n",
    "    #Function: return the index of the misising data\n",
    "    vacias=empty_coordinates_attribute(data_frame,attribute_mising_data)\n",
    "    #create a list of lists of the distance euclidian \n",
    "    for i in range(len(vacias)):\n",
    "        distancia.append([])\n",
    "        for j in range(len(data_frame)):\n",
    "            if vacias[i]==j:\n",
    "                j=j+1\n",
    "            else:\n",
    "                distancia[i].append((data_frame.iloc[vacias[i]][attribute_name] - data_frame.iloc[j][attribute_name])**2)    \n",
    "    return distancia\n",
    "    \n",
    "def impKNN(valor_k,data_frame,attribute_mising_data):\n",
    "    contador=0\n",
    "    suma=0\n",
    "    c=0\n",
    "    pesos=0\n",
    "    resultados=[]\n",
    "    distancia=[]\n",
    "    distancias_flatten=[]\n",
    "    lista_suma=[]\n",
    "    lista_pesos=[]\n",
    "    resultados_dividida = []\n",
    "    resultado_ordenado=[]\n",
    "    resultado_ordenado_valores=[]\n",
    "    ordenado_k=[]\n",
    "    promedio=[]\n",
    "    promedio_k=[]\n",
    "    #get the name of the attributes\n",
    "    col=data_frame.columns.tolist()\n",
    "    #Function: return the index of the misising data\n",
    "    empty_coor=empty_coordinates_attribute(data_frame,attribute_mising_data)\n",
    "    \n",
    "    if len(empty_coor)==0:\n",
    "        print('No hay valores a imputar')\n",
    "    \n",
    "    else:\n",
    "        \n",
    "        #create a list of lists of the distance euclidian\n",
    "        for i in range(len(col)):\n",
    "            if col[i]==attribute_mising_data:\n",
    "                i=i+1\n",
    "            else:\n",
    "                distancia.append(KNN(data_frame,attribute_mising_data,col[i]))\n",
    "\n",
    "        #create only one list\n",
    "        for j in range(len(distancia)):\n",
    "            for k in range(len(distancia[j])):\n",
    "                #count the lists\n",
    "                contador=contador+1\n",
    "                for l in range(len(distancia[j][k])):\n",
    "                    distancias_flatten.append(distancia[j][k][l])\n",
    "\n",
    "        #sum of distances between instances          \n",
    "        for m in range(contador):\n",
    "            for n in range(m,len(distancias_flatten),contador):\n",
    "                if(pd.isna(distancias_flatten[n])):\n",
    "                    distancias_flatten[n]=0\n",
    "                    pesos=pesos+1\n",
    "                    \n",
    "                suma=suma+distancias_flatten[n]\n",
    "                c=c+1\n",
    "                if c==len(distancia):\n",
    "                    #get the weights\n",
    "                    lista_suma.append(suma)\n",
    "                    lista_pesos.append((len(distancia)-pesos)/len(distancia))\n",
    "                    suma=0\n",
    "                    pesos=0\n",
    "                    c=0\n",
    "        \n",
    "        for o in range(len(lista_suma)):\n",
    "            resultados.append((lista_pesos[o],lista_suma[o])*0.5)\n",
    "\n",
    "        #regroup back into lists\n",
    "        for p in range(0, len(resultados), len(distancia[0][0])):\n",
    "            resultados_dividida.append(resultados[p:p+len(distancia[0][0])])\n",
    "\n",
    "        #sort the lists and get only the indices\n",
    "        for ordernar in range(len(resultados_dividida)):\n",
    "            resultado_ordenado.append(np.argsort(resultados_dividida[ordernar]).tolist())\n",
    "        \n",
    "        for ind in range(len(resultado_ordenado)):\n",
    "            resultado_ordenado_valores.append([])\n",
    "            for indi in range(len(resultado_ordenado[ind])):\n",
    "                resultado_ordenado_valores[ind].append(resultados_dividida[ind][resultado_ordenado[ind][indi]])            \n",
    "\n",
    "        # K \n",
    "        for r in range(len(resultado_ordenado_valores)):\n",
    "            promedio.append([])\n",
    "            for v in range(valor_k):\n",
    "                promedio[r].append(resultado_ordenado_valores[r][v])\n",
    "        # promedio K\n",
    "        for rr in range(len(promedio)):\n",
    "            promedio_k.append(np.mean(promedio[rr]))\n",
    "        \n",
    "        for emp in range(len(empty_coor)):\n",
    "            data_frame.loc[empty_coor[emp], attribute_mising_data] = round(promedio_k[emp],2)\n",
    "\n",
    "def impMean(dataf, columna):\n",
    "    mean = dataf[columna].mean()\n",
    "    print(mean)\n",
    "    dataf = dataf.fillna(mean)\n",
    "    sns.displot(dataf[\"Air_temperature\"])\n",
    "    return dataf"
   ]
  },
  {
   "cell_type": "code",
   "execution_count": 52,
   "metadata": {},
   "outputs": [
    {
     "name": "stdout",
     "output_type": "stream",
     "text": [
      "2591\n",
      "6326\n",
      "0       0.304348\n",
      "1       0.315217\n",
      "2       0.304348\n",
      "3       0.315217\n",
      "4            NaN\n",
      "          ...   \n",
      "9995         NaN\n",
      "9996    0.391304\n",
      "9997    0.402174\n",
      "9998    0.402174\n",
      "9999    0.402174\n",
      "Name: Air_temperature, Length: 10000, dtype: float64\n",
      "0       0.304348\n",
      "1       0.315217\n",
      "2       0.304348\n",
      "3       0.315217\n",
      "4       0.315217\n",
      "          ...   \n",
      "9995    0.391304\n",
      "9996    0.391304\n",
      "9997    0.402174\n",
      "9998    0.402174\n",
      "9999    0.402174\n",
      "Name: 2, Length: 10000, dtype: float64\n"
     ]
    },
    {
     "data": {
      "text/plain": [
       "<seaborn.axisgrid.FacetGrid at 0x22b098d2320>"
      ]
     },
     "execution_count": 52,
     "metadata": {},
     "output_type": "execute_result"
    },
    {
     "data": {
      "image/png": "[encoded data removed]",
      "text/plain": [
       "<Figure size 360x360 with 1 Axes>"
      ]
     },
     "metadata": {
      "needs_background": "light"
     },
     "output_type": "display_data"
    },
    {
     "data": {
      "image/png": "[encoded data removed]",
      "text/plain": [
       "<Figure size 360x360 with 1 Axes>"
      ]
     },
     "metadata": {
      "needs_background": "light"
     },
     "output_type": "display_data"
    },
    {
     "data": {
      "image/png": "[encoded data removed]",
      "text/plain": [
       "<Figure size 360x360 with 1 Axes>"
      ]
     },
     "metadata": {
      "needs_background": "light"
     },
     "output_type": "display_data"
    }
   ],
   "source": [
    "\n",
    "#impKNN(2,data30,\"Air_temperature\")\n",
    "imputer = KNNImputer(n_neighbors=1)\n",
    "afterimp = imputer.fit_transform(data50)\n",
    "print(data50[\"Air_temperature\"].isna().sum())\n",
    "data50imp = pd.DataFrame(afterimp)\n",
    "print(data50[\"Air_temperature\"])\n",
    "print(data50imp[2])\n",
    "sns.displot(dataframe[\"Air_temperature\"])\n",
    "sns.displot(data50[\"Air_temperature\"])\n",
    "sns.displot(data50imp[2])\n",
    "\n"
   ]
  },
  {
   "cell_type": "code",
   "execution_count": 68,
   "metadata": {},
   "outputs": [
    {
     "name": "stdout",
     "output_type": "stream",
     "text": [
      "942\n",
      "0       0.304348\n",
      "1       0.315217\n",
      "2       0.304348\n",
      "3       0.315217\n",
      "4       0.315217\n",
      "          ...   \n",
      "9995    0.380435\n",
      "9996    0.391304\n",
      "9997    0.402174\n",
      "9998    0.402174\n",
      "9999    0.402174\n",
      "Name: Air_temperature, Length: 10000, dtype: float64\n",
      "0       0.304348\n",
      "1       0.315217\n",
      "2       0.304348\n",
      "3       0.315217\n",
      "4       0.315217\n",
      "          ...   \n",
      "9995    0.380435\n",
      "9996    0.391304\n",
      "9997    0.402174\n",
      "9998    0.402174\n",
      "9999    0.402174\n",
      "Name: 2, Length: 10000, dtype: float64\n"
     ]
    },
    {
     "data": {
      "text/plain": [
       "<seaborn.axisgrid.FacetGrid at 0x22ae24e6680>"
      ]
     },
     "execution_count": 68,
     "metadata": {},
     "output_type": "execute_result"
    },
    {
     "data": {
      "image/png": "[encoded data removed]",
      "text/plain": [
       "<Figure size 360x360 with 1 Axes>"
      ]
     },
     "metadata": {
      "needs_background": "light"
     },
     "output_type": "display_data"
    },
    {
     "data": {
      "image/png": "[encoded data removed]",
      "text/plain": [
       "<Figure size 360x360 with 1 Axes>"
      ]
     },
     "metadata": {
      "needs_background": "light"
     },
     "output_type": "display_data"
    },
    {
     "data": {
      "image/png": "[encoded data removed]",
      "text/plain": [
       "<Figure size 360x360 with 1 Axes>"
      ]
     },
     "metadata": {
      "needs_background": "light"
     },
     "output_type": "display_data"
    }
   ],
   "source": [
    "#impKNN(2,data30,\"Air_temperature\")\n",
    "imputer = KNNImputer(n_neighbors=1)\n",
    "afterimp = imputer.fit_transform(data10)\n",
    "print(data10[\"Air_temperature\"].isna().sum())\n",
    "data10imp = pd.DataFrame(afterimp)\n",
    "print(data10[\"Air_temperature\"])\n",
    "print(data10imp[2])\n",
    "sns.displot(dataframe[\"Air_temperature\"])\n",
    "sns.displot(data10[\"Air_temperature\"])\n",
    "sns.displot(data10imp[2])\n"
   ]
  },
  {
   "cell_type": "code",
   "execution_count": 64,
   "metadata": {},
   "outputs": [
    {
     "name": "stdout",
     "output_type": "stream",
     "text": [
      "942\n",
      "0.5121943609780443\n",
      "942\n"
     ]
    },
    {
     "data": {
      "text/plain": [
       "<seaborn.axisgrid.FacetGrid at 0x22adf670fd0>"
      ]
     },
     "execution_count": 64,
     "metadata": {},
     "output_type": "execute_result"
    },
    {
     "data": {
      "image/png": "[encoded data removed]",
      "text/plain": [
       "<Figure size 360x360 with 1 Axes>"
      ]
     },
     "metadata": {
      "needs_background": "light"
     },
     "output_type": "display_data"
    },
    {
     "data": {
      "image/png": "[encoded data removed]",
      "text/plain": [
       "<Figure size 360x360 with 1 Axes>"
      ]
     },
     "metadata": {
      "needs_background": "light"
     },
     "output_type": "display_data"
    },
    {
     "data": {
      "image/png": "[encoded data removed]",
      "text/plain": [
       "<Figure size 360x360 with 1 Axes>"
      ]
     },
     "metadata": {
      "needs_background": "light"
     },
     "output_type": "display_data"
    }
   ],
   "source": [
    "print(data10[\"Air_temperature\"].isna().sum())\n",
    "sns.displot(data10[\"Air_temperature\"])\n",
    "impMean(data10,\"Air_temperature\")\n",
    "print(data10[\"Air_temperature\"].isna().sum())\n",
    "sns.displot(dataframe[\"Air_temperature\"])"
   ]
  },
  {
   "cell_type": "code",
   "execution_count": 67,
   "metadata": {},
   "outputs": [
    {
     "name": "stdout",
     "output_type": "stream",
     "text": [
      "2591\n",
      "0.5089990434665236\n",
      "2591\n"
     ]
    },
    {
     "data": {
      "text/plain": [
       "<seaborn.axisgrid.FacetGrid at 0x22ae22fa620>"
      ]
     },
     "execution_count": 67,
     "metadata": {},
     "output_type": "execute_result"
    },
    {
     "data": {
      "image/png": "[encoded data removed]",
      "text/plain": [
       "<Figure size 360x360 with 1 Axes>"
      ]
     },
     "metadata": {
      "needs_background": "light"
     },
     "output_type": "display_data"
    },
    {
     "data": {
      "image/png": "[encoded data removed]",
      "text/plain": [
       "<Figure size 360x360 with 1 Axes>"
      ]
     },
     "metadata": {
      "needs_background": "light"
     },
     "output_type": "display_data"
    },
    {
     "data": {
      "image/png": "[encoded data removed]",
      "text/plain": [
       "<Figure size 360x360 with 1 Axes>"
      ]
     },
     "metadata": {
      "needs_background": "light"
     },
     "output_type": "display_data"
    }
   ],
   "source": [
    "print(data30[\"Air_temperature\"].isna().sum())\n",
    "sns.displot(data30[\"Air_temperature\"])\n",
    "impMean(data30,\"Air_temperature\")\n",
    "print(data30[\"Air_temperature\"].isna().sum())\n",
    "sns.displot(dataframe[\"Air_temperature\"])"
   ]
  },
  {
   "cell_type": "code",
   "execution_count": 66,
   "metadata": {},
   "outputs": [
    {
     "name": "stdout",
     "output_type": "stream",
     "text": [
      "6326\n",
      "0.506701024827814\n",
      "6326\n"
     ]
    },
    {
     "data": {
      "text/plain": [
       "<seaborn.axisgrid.FacetGrid at 0x22a88ff1870>"
      ]
     },
     "execution_count": 66,
     "metadata": {},
     "output_type": "execute_result"
    },
    {
     "data": {
      "image/png": "[encoded data removed]",
      "text/plain": [
       "<Figure size 360x360 with 1 Axes>"
      ]
     },
     "metadata": {
      "needs_background": "light"
     },
     "output_type": "display_data"
    },
    {
     "data": {
      "image/png": "[encoded data removed]",
      "text/plain": [
       "<Figure size 360x360 with 1 Axes>"
      ]
     },
     "metadata": {
      "needs_background": "light"
     },
     "output_type": "display_data"
    },
    {
     "data": {
      "image/png": "[encoded data removed]",
      "text/plain": [
       "<Figure size 360x360 with 1 Axes>"
      ]
     },
     "metadata": {
      "needs_background": "light"
     },
     "output_type": "display_data"
    }
   ],
   "source": [
    "print(data50[\"Air_temperature\"].isna().sum())\n",
    "sns.displot(data50[\"Air_temperature\"])\n",
    "impMean(data50,\"Air_temperature\")\n",
    "print(data50[\"Air_temperature\"].isna().sum())\n",
    "sns.displot(dataframe[\"Air_temperature\"])\n"
   ]
  }
 ],
 "metadata": {
  "kernelspec": {
   "display_name": "Python 3.10.4 64-bit",
   "language": "python",
   "name": "python3"
  },
  "language_info": {
   "codemirror_mode": {
    "name": "ipython",
    "version": 3
   },
   "file_extension": ".py",
   "mimetype": "text/x-python",
   "name": "python",
   "nbconvert_exporter": "python",
   "pygments_lexer": "ipython3",
   "version": "3.10.4"
  },
  "orig_nbformat": 4,
  "vscode": {
   "interpreter": {
    "hash": "0ba6ab5a18b75c606d075598a767daad8c33e47130e8e6a77a1b5fb62c7af019"
   }
  }
 },
 "nbformat": 4,
 "nbformat_minor": 2
}
